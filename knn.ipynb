{
  "nbformat": 4,
  "nbformat_minor": 0,
  "metadata": {
    "colab": {
      "provenance": []
    },
    "kernelspec": {
      "name": "python3",
      "display_name": "Python 3"
    },
    "language_info": {
      "name": "python"
    }
  },
  "cells": [
    {
      "cell_type": "markdown",
      "source": [
        "classification methods"
      ],
      "metadata": {
        "id": "ImUuVZg9ra7-"
      }
    },
    {
      "cell_type": "markdown",
      "source": [
        "*k-nearest neighbors algorithm*\n",
        "\n",
        "k: nearest data points\n",
        "\n",
        "  lazy learning algorithm - doesnt have a specialized training phase and uses all the data for training\n",
        "\n",
        "  non-parametric\n",
        "\n",
        "  supervised learning\n",
        "\n",
        "  uses proximity to make classifications/predictions\n",
        "\n",
        "\n",
        "knn searches the pattern space for the k training samples that are closest to the unknown sample.\n",
        "\n",
        "\n",
        "*closeness* is defined in terms of **Euclidean**, Manhattan or Hamming distance.\n",
        "process\n",
        "  1. calculate distance between new sample and training samples\n",
        "  2. sort distance values in ascending\n",
        "  3. choose top k rows from sorted values\n",
        "  4. new sample class will be most frequent class of that rows\n"
      ],
      "metadata": {
        "id": "ts0B1wFarqTx"
      }
    },
    {
      "cell_type": "code",
      "execution_count": null,
      "metadata": {
        "id": "XC8inTGurYCn"
      },
      "outputs": [],
      "source": []
    }
  ]
}